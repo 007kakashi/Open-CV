{
 "cells": [
  {
   "cell_type": "code",
   "execution_count": null,
   "id": "91bfef48",
   "metadata": {},
   "outputs": [],
   "source": [
    "import cv2\n",
    "import numpy as np\n",
    " \n",
    "img = cv2.imread(\"Resources/lena.png\")\n",
    "kernel = np.ones((5,5),np.uint8)\n",
    " \n",
    "imgGray = cv2.cvtColor(img,cv2.COLOR_BGR2GRAY)\n",
    "imgBlur = cv2.GaussianBlur(imgGray,(7,7),0)\n",
    "imgCanny = cv2.Canny(img,150,200)\n",
    "imgDialation = cv2.dilate(imgCanny,kernel,iterations=1)\n",
    "imgEroded = cv2.erode(imgDialation,kernel,iterations=1)\n",
    " \n",
    "cv2.imshow(\"Gray Image\",imgGray)\n",
    "cv2.imshow(\"Blur Image\",imgBlur)\n",
    "cv2.imshow(\"Canny Image\",imgCanny)\n",
    "cv2.imshow(\"Dialation Image\",imgDialation)\n",
    "cv2.imshow(\"Eroded Image\",imgEroded)\n",
    "cv2.waitKey(0)"
   ]
  }
 ],
 "metadata": {
  "kernelspec": {
   "display_name": "Python 3 (ipykernel)",
   "language": "python",
   "name": "python3"
  },
  "language_info": {
   "codemirror_mode": {
    "name": "ipython",
    "version": 3
   },
   "file_extension": ".py",
   "mimetype": "text/x-python",
   "name": "python",
   "nbconvert_exporter": "python",
   "pygments_lexer": "ipython3",
   "version": "3.10.9"
  }
 },
 "nbformat": 4,
 "nbformat_minor": 5
}
